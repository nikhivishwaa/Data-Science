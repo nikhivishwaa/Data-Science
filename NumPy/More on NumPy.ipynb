{
 "cells": [
  {
   "cell_type": "markdown",
   "id": "bb55acbd",
   "metadata": {},
   "source": [
    "### Axis in NumPy"
   ]
  },
  {
   "cell_type": "markdown",
   "id": "50d64820",
   "metadata": {},
   "source": [
    "#### 0 for column | 1 for row"
   ]
  },
  {
   "cell_type": "code",
   "execution_count": 5,
   "id": "5c68bafc",
   "metadata": {},
   "outputs": [],
   "source": [
    "import numpy as np"
   ]
  },
  {
   "cell_type": "code",
   "execution_count": 8,
   "id": "bfd7a087",
   "metadata": {},
   "outputs": [
    {
     "name": "stdout",
     "output_type": "stream",
     "text": [
      "[[1 2 3]\n",
      " [4 5 6]]\n"
     ]
    },
    {
     "data": {
      "text/plain": [
       "21"
      ]
     },
     "execution_count": 8,
     "metadata": {},
     "output_type": "execute_result"
    }
   ],
   "source": [
    "ar1 = np.array([[1,2,3],[4,5,6]])\n",
    "print(ar1)\n",
    "ar1.sum()"
   ]
  },
  {
   "cell_type": "code",
   "execution_count": 3,
   "id": "471d47f8",
   "metadata": {},
   "outputs": [
    {
     "data": {
      "text/plain": [
       "array([5, 7, 9])"
      ]
     },
     "execution_count": 3,
     "metadata": {},
     "output_type": "execute_result"
    }
   ],
   "source": [
    "ar1.sum(axis=0) # sum in columns"
   ]
  },
  {
   "cell_type": "code",
   "execution_count": 4,
   "id": "48b5fb43",
   "metadata": {},
   "outputs": [
    {
     "data": {
      "text/plain": [
       "array([ 6, 15])"
      ]
     },
     "execution_count": 4,
     "metadata": {},
     "output_type": "execute_result"
    }
   ],
   "source": [
    "ar1.sum(axis=1) # sum in columns"
   ]
  },
  {
   "cell_type": "markdown",
   "id": "85dfb9a7",
   "metadata": {},
   "source": [
    "#### Dot Product"
   ]
  },
  {
   "cell_type": "code",
   "execution_count": 5,
   "id": "bb92b60c",
   "metadata": {},
   "outputs": [
    {
     "name": "stdout",
     "output_type": "stream",
     "text": [
      "[[1 2 3]\n",
      " [4 5 6]]\n",
      "[[ 4  9  6]\n",
      " [ 7  8 12]]\n"
     ]
    }
   ],
   "source": [
    "a = np.array([[1,2,3],[4,5,6]])\n",
    "print(a)\n",
    "b = np.array([[4,9,6],[7,8,12]])\n",
    "print(b)"
   ]
  },
  {
   "cell_type": "code",
   "execution_count": 6,
   "id": "e69c90cb",
   "metadata": {},
   "outputs": [
    {
     "ename": "ValueError",
     "evalue": "shapes (2,3) and (2,3) not aligned: 3 (dim 1) != 2 (dim 0)",
     "output_type": "error",
     "traceback": [
      "\u001b[1;31m---------------------------------------------------------------------------\u001b[0m",
      "\u001b[1;31mValueError\u001b[0m                                Traceback (most recent call last)",
      "Cell \u001b[1;32mIn[6], line 1\u001b[0m\n\u001b[1;32m----> 1\u001b[0m a\u001b[38;5;241m.\u001b[39mdot(b)\n",
      "\u001b[1;31mValueError\u001b[0m: shapes (2,3) and (2,3) not aligned: 3 (dim 1) != 2 (dim 0)"
     ]
    }
   ],
   "source": [
    "a.dot(b) # throws error bcz 2*3 matrix cannot multiply with 2*3 matrix so we have to transpose one matrix"
   ]
  },
  {
   "cell_type": "code",
   "execution_count": 7,
   "id": "169aa3cc",
   "metadata": {},
   "outputs": [
    {
     "data": {
      "text/plain": [
       "array([[ 40,  59],\n",
       "       [ 97, 140]])"
      ]
     },
     "execution_count": 7,
     "metadata": {},
     "output_type": "execute_result"
    }
   ],
   "source": [
    "a.dot(b.transpose())"
   ]
  },
  {
   "cell_type": "code",
   "execution_count": 8,
   "id": "5dc8df1b",
   "metadata": {},
   "outputs": [
    {
     "data": {
      "text/plain": [
       "596"
      ]
     },
     "execution_count": 8,
     "metadata": {},
     "output_type": "execute_result"
    }
   ],
   "source": [
    "len(dir(np))"
   ]
  },
  {
   "cell_type": "code",
   "execution_count": 9,
   "id": "85b2e414",
   "metadata": {},
   "outputs": [
    {
     "data": {
      "text/plain": [
       "array([[ 40,  59],\n",
       "       [ 97, 140]])"
      ]
     },
     "execution_count": 9,
     "metadata": {},
     "output_type": "execute_result"
    }
   ],
   "source": [
    "np.dot(a,b.transpose())"
   ]
  },
  {
   "cell_type": "code",
   "execution_count": 10,
   "id": "80af08c4",
   "metadata": {},
   "outputs": [
    {
     "data": {
      "text/plain": [
       "array([[-15,   6,   1],\n",
       "       [ 12,  -6,  -3]])"
      ]
     },
     "execution_count": 10,
     "metadata": {},
     "output_type": "execute_result"
    }
   ],
   "source": [
    "np.cross(a,b)"
   ]
  },
  {
   "cell_type": "markdown",
   "id": "d3323919",
   "metadata": {},
   "source": [
    "#### Sorting"
   ]
  },
  {
   "cell_type": "code",
   "execution_count": 11,
   "id": "d606947f",
   "metadata": {},
   "outputs": [
    {
     "data": {
      "text/plain": [
       "array([[ 1,  3,  6, 12, 15, 24],\n",
       "       [ 4,  6,  7,  9, 12, 38]])"
      ]
     },
     "execution_count": 11,
     "metadata": {},
     "output_type": "execute_result"
    }
   ],
   "source": [
    "a = np.array([[1,12,3,24,15,6],[4,9,6,7,38,12]])\n",
    "\n",
    "np.sort(a)"
   ]
  },
  {
   "cell_type": "code",
   "execution_count": 12,
   "id": "03de77fc",
   "metadata": {},
   "outputs": [
    {
     "data": {
      "text/plain": [
       "array([[ 1,  9,  3,  7, 15,  6],\n",
       "       [ 4, 12,  6, 24, 38, 12]])"
      ]
     },
     "execution_count": 12,
     "metadata": {},
     "output_type": "execute_result"
    }
   ],
   "source": [
    "np.sort(a, axis=0) # sort elements in columns"
   ]
  },
  {
   "cell_type": "code",
   "execution_count": 13,
   "id": "c6653c7e",
   "metadata": {},
   "outputs": [
    {
     "name": "stdout",
     "output_type": "stream",
     "text": [
      "mergesort [[ 1  9  3  7 15  6]\n",
      " [ 4 12  6 24 38 12]]\n",
      "quicksort [[ 1  9  3  7 15  6]\n",
      " [ 4 12  6 24 38 12]]\n",
      "heapsort [[ 1  9  3  7 15  6]\n",
      " [ 4 12  6 24 38 12]]\n"
     ]
    }
   ],
   "source": [
    "x = np.sort(a, axis=0, kind='mergesort')  # specify what sorting algorithm you want to use\n",
    "print('mergesort',x)\n",
    "y = np.sort(a, axis=0, kind='quicksort')\n",
    "print('quicksort',y)\n",
    "z = np.sort(a, axis=0, kind='heapsort')\n",
    "print('heapsort',z)"
   ]
  },
  {
   "cell_type": "markdown",
   "id": "1214ef4c",
   "metadata": {},
   "source": [
    "#### Reshape and arange()"
   ]
  },
  {
   "cell_type": "code",
   "execution_count": 9,
   "id": "6c29ed48",
   "metadata": {},
   "outputs": [
    {
     "name": "stdout",
     "output_type": "stream",
     "text": [
      "[ 0  1  2  3  4  5  6  7  8  9 10 11 12 13 14 15 16 17]\n"
     ]
    },
    {
     "data": {
      "text/plain": [
       "(18,)"
      ]
     },
     "execution_count": 9,
     "metadata": {},
     "output_type": "execute_result"
    }
   ],
   "source": [
    "mat = np.arange(18)\n",
    "print(mat)\n",
    "mat.shape"
   ]
  },
  {
   "cell_type": "code",
   "execution_count": 10,
   "id": "03032f5f",
   "metadata": {},
   "outputs": [
    {
     "data": {
      "text/plain": [
       "array([[ 0,  1,  2,  3,  4,  5],\n",
       "       [ 6,  7,  8,  9, 10, 11],\n",
       "       [12, 13, 14, 15, 16, 17]])"
      ]
     },
     "execution_count": 10,
     "metadata": {},
     "output_type": "execute_result"
    }
   ],
   "source": [
    "x = mat.reshape(3,6)\n",
    "x"
   ]
  },
  {
   "cell_type": "code",
   "execution_count": 11,
   "id": "26bbacbd",
   "metadata": {},
   "outputs": [
    {
     "ename": "ValueError",
     "evalue": "cannot reshape array of size 18 into shape (2,8)",
     "output_type": "error",
     "traceback": [
      "\u001b[1;31m---------------------------------------------------------------------------\u001b[0m",
      "\u001b[1;31mValueError\u001b[0m                                Traceback (most recent call last)",
      "Cell \u001b[1;32mIn[11], line 1\u001b[0m\n\u001b[1;32m----> 1\u001b[0m x \u001b[38;5;241m=\u001b[39m mat\u001b[38;5;241m.\u001b[39mreshape(\u001b[38;5;241m2\u001b[39m,\u001b[38;5;241m8\u001b[39m)\n\u001b[0;32m      2\u001b[0m x\n",
      "\u001b[1;31mValueError\u001b[0m: cannot reshape array of size 18 into shape (2,8)"
     ]
    }
   ],
   "source": [
    "x = mat.reshape(2,8)\n",
    "x"
   ]
  },
  {
   "cell_type": "code",
   "execution_count": 16,
   "id": "c716737c",
   "metadata": {},
   "outputs": [
    {
     "data": {
      "text/plain": [
       "array([[ 0,  1],\n",
       "       [ 2,  3],\n",
       "       [ 4,  5],\n",
       "       [ 6,  7],\n",
       "       [ 8,  9],\n",
       "       [10, 11],\n",
       "       [12, 13],\n",
       "       [14, 15],\n",
       "       [16, 17]])"
      ]
     },
     "execution_count": 16,
     "metadata": {},
     "output_type": "execute_result"
    }
   ],
   "source": [
    "x = mat.reshape(9,2)\n",
    "x"
   ]
  },
  {
   "cell_type": "markdown",
   "id": "cc629b6e",
   "metadata": {},
   "source": [
    "### argsort, argmax and argmin"
   ]
  },
  {
   "cell_type": "code",
   "execution_count": 17,
   "id": "6f620e37",
   "metadata": {},
   "outputs": [
    {
     "data": {
      "text/plain": [
       "(14,)"
      ]
     },
     "execution_count": 17,
     "metadata": {},
     "output_type": "execute_result"
    }
   ],
   "source": [
    "# argsort give the index of values which can sort the array in ascending order\n",
    "\n",
    "mat = np.array([4,5,8,1,2,7,12,36,9,8,45,1,25,21])\n",
    "mat.shape"
   ]
  },
  {
   "cell_type": "code",
   "execution_count": 18,
   "id": "30d08287",
   "metadata": {},
   "outputs": [
    {
     "data": {
      "text/plain": [
       "array([ 3, 11,  4,  0,  1,  5,  2,  9,  8,  6, 13, 12,  7, 10],\n",
       "      dtype=int64)"
      ]
     },
     "execution_count": 18,
     "metadata": {},
     "output_type": "execute_result"
    }
   ],
   "source": [
    "np.argsort(mat)"
   ]
  },
  {
   "cell_type": "code",
   "execution_count": 19,
   "id": "5f3e0103",
   "metadata": {},
   "outputs": [
    {
     "data": {
      "text/plain": [
       "10"
      ]
     },
     "execution_count": 19,
     "metadata": {},
     "output_type": "execute_result"
    }
   ],
   "source": [
    "np.argmax(mat)"
   ]
  },
  {
   "cell_type": "code",
   "execution_count": 20,
   "id": "5d598cc8",
   "metadata": {},
   "outputs": [
    {
     "data": {
      "text/plain": [
       "3"
      ]
     },
     "execution_count": 20,
     "metadata": {},
     "output_type": "execute_result"
    }
   ],
   "source": [
    "np.argmin(mat)"
   ]
  },
  {
   "cell_type": "markdown",
   "id": "335f5a4e",
   "metadata": {},
   "source": [
    "### Slicing in numpy"
   ]
  },
  {
   "cell_type": "code",
   "execution_count": 13,
   "id": "5bb2a246",
   "metadata": {},
   "outputs": [
    {
     "name": "stdout",
     "output_type": "stream",
     "text": [
      "[6 5 4 6 5 4]\n"
     ]
    }
   ],
   "source": [
    "a = np.array([6,  5,  4, 6,  5,  4])\n",
    "\n",
    "print(a)"
   ]
  },
  {
   "cell_type": "code",
   "execution_count": 14,
   "id": "a720477d",
   "metadata": {},
   "outputs": [
    {
     "data": {
      "text/plain": [
       "array([[6, 5, 4, 6, 5, 4]])"
      ]
     },
     "execution_count": 14,
     "metadata": {},
     "output_type": "execute_result"
    }
   ],
   "source": [
    "a[np.newaxis,:]  # new axis increase the dimension of numpy array"
   ]
  },
  {
   "cell_type": "code",
   "execution_count": 15,
   "id": "9c9e1910",
   "metadata": {},
   "outputs": [
    {
     "name": "stdout",
     "output_type": "stream",
     "text": [
      "[6 5 4 6 5 4]\n",
      "[5 4 6]\n",
      "[[5 4 6 5]]\n"
     ]
    }
   ],
   "source": [
    "print(a[:])\n",
    "print(a[1:4])\n",
    "print(a[np.newaxis,1:5])"
   ]
  },
  {
   "cell_type": "code",
   "execution_count": 28,
   "id": "5a538dfd",
   "metadata": {},
   "outputs": [
    {
     "name": "stdout",
     "output_type": "stream",
     "text": [
      "[[ 6  5  4  6  5  4]\n",
      " [ 7  6  5  7  6  5]\n",
      " [ 8  7  6  8  7  6]\n",
      " [ 9  8  7  9  8  7]\n",
      " [10  9  8 10  9  8]]\n"
     ]
    }
   ],
   "source": [
    "x = np.array([[ 6,  5,  4, 6,  5,  4],\n",
    "       [ 7,  6,  5, 7,  6,  5],\n",
    "       [ 8,  7,  6, 8,  7,  6],\n",
    "       [ 9,  8,  7, 9,  8,  7],\n",
    "       [10,  9,  8, 10,  9,  8]])\n",
    "\n",
    "print(x)"
   ]
  },
  {
   "cell_type": "code",
   "execution_count": 29,
   "id": "218bf98a",
   "metadata": {},
   "outputs": [
    {
     "data": {
      "text/plain": [
       "array([[[5, 4],\n",
       "        [6, 5],\n",
       "        [7, 6],\n",
       "        [8, 7],\n",
       "        [9, 8]]])"
      ]
     },
     "execution_count": 29,
     "metadata": {},
     "output_type": "execute_result"
    }
   ],
   "source": [
    "x[np.newaxis,:,1:3]"
   ]
  },
  {
   "cell_type": "code",
   "execution_count": null,
   "id": "20669efc",
   "metadata": {},
   "outputs": [],
   "source": []
  }
 ],
 "metadata": {
  "kernelspec": {
   "display_name": "Python 3 (ipykernel)",
   "language": "python",
   "name": "python3"
  },
  "language_info": {
   "codemirror_mode": {
    "name": "ipython",
    "version": 3
   },
   "file_extension": ".py",
   "mimetype": "text/x-python",
   "name": "python",
   "nbconvert_exporter": "python",
   "pygments_lexer": "ipython3",
   "version": "3.11.3"
  }
 },
 "nbformat": 4,
 "nbformat_minor": 5
}
