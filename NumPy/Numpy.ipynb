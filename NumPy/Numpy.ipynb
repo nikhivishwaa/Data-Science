{
 "cells": [
  {
   "cell_type": "code",
   "execution_count": 2,
   "id": "3afa5ca7",
   "metadata": {},
   "outputs": [],
   "source": [
    "import numpy as np"
   ]
  },
  {
   "cell_type": "code",
   "execution_count": 3,
   "id": "d30e252d",
   "metadata": {},
   "outputs": [
    {
     "name": "stdout",
     "output_type": "stream",
     "text": [
      "2\n"
     ]
    }
   ],
   "source": [
    "print(2)"
   ]
  },
  {
   "cell_type": "code",
   "execution_count": 5,
   "id": "483f09b6",
   "metadata": {},
   "outputs": [],
   "source": [
    "arr = np.arange(1000000)"
   ]
  },
  {
   "cell_type": "code",
   "execution_count": 6,
   "id": "25b81e56",
   "metadata": {},
   "outputs": [],
   "source": [
    "lst  = list(arr)"
   ]
  },
  {
   "cell_type": "code",
   "execution_count": 10,
   "id": "88a9a646",
   "metadata": {},
   "outputs": [
    {
     "name": "stdout",
     "output_type": "stream",
     "text": [
      "CPU times: total: 1.02 s\n",
      "Wall time: 1.9 s\n"
     ]
    }
   ],
   "source": [
    "%time for i in range(10): [i*3 for i in lst]"
   ]
  },
  {
   "cell_type": "code",
   "execution_count": 11,
   "id": "0f78b366",
   "metadata": {},
   "outputs": [
    {
     "name": "stdout",
     "output_type": "stream",
     "text": [
      "CPU times: total: 15.6 ms\n",
      "Wall time: 33.2 ms\n"
     ]
    }
   ],
   "source": [
    "%time for i in range(10): arr = arr*3"
   ]
  },
  {
   "cell_type": "code",
   "execution_count": 12,
   "id": "302a4e39",
   "metadata": {},
   "outputs": [
    {
     "data": {
      "text/plain": [
       "array([1, 5, 8, 9, 7, 4, 5, 6, 3])"
      ]
     },
     "execution_count": 12,
     "metadata": {},
     "output_type": "execute_result"
    }
   ],
   "source": [
    "np.array([1,5,8,9,7,4,5,6,3])"
   ]
  },
  {
   "cell_type": "markdown",
   "id": "d9cce7d6",
   "metadata": {},
   "source": [
    "### Numpy ndArrays"
   ]
  },
  {
   "cell_type": "code",
   "execution_count": 14,
   "id": "e3e0a0c2",
   "metadata": {},
   "outputs": [],
   "source": [
    "array1 = np.array([[1,5,2,9,45],[1,9,7,4,2]])"
   ]
  },
  {
   "cell_type": "code",
   "execution_count": 15,
   "id": "c9dde2e6",
   "metadata": {},
   "outputs": [
    {
     "name": "stdout",
     "output_type": "stream",
     "text": [
      "[[ 1  5  2  9 45]\n",
      " [ 1  9  7  4  2]]\n",
      "<class 'numpy.ndarray'>\n"
     ]
    }
   ],
   "source": [
    "print(array1)\n",
    "print(type(array1))"
   ]
  },
  {
   "cell_type": "code",
   "execution_count": 18,
   "id": "78f471d6",
   "metadata": {},
   "outputs": [
    {
     "data": {
      "text/plain": [
       "(2, 5)"
      ]
     },
     "execution_count": 18,
     "metadata": {},
     "output_type": "execute_result"
    }
   ],
   "source": [
    "array1.shape"
   ]
  },
  {
   "cell_type": "code",
   "execution_count": 19,
   "id": "e8a6aca2",
   "metadata": {},
   "outputs": [
    {
     "data": {
      "text/plain": [
       "dtype('int32')"
      ]
     },
     "execution_count": 19,
     "metadata": {},
     "output_type": "execute_result"
    }
   ],
   "source": [
    "array1.dtype"
   ]
  },
  {
   "cell_type": "code",
   "execution_count": 21,
   "id": "ef7e6c2f",
   "metadata": {},
   "outputs": [],
   "source": [
    "array1 = np.array([[1,5,2,9,45],[1,9,7,4,2]], 'int64')"
   ]
  },
  {
   "cell_type": "code",
   "execution_count": 22,
   "id": "c033a910",
   "metadata": {},
   "outputs": [
    {
     "data": {
      "text/plain": [
       "dtype('int64')"
      ]
     },
     "execution_count": 22,
     "metadata": {},
     "output_type": "execute_result"
    }
   ],
   "source": [
    "array1.dtype"
   ]
  },
  {
   "cell_type": "code",
   "execution_count": 23,
   "id": "3ad586d0",
   "metadata": {},
   "outputs": [],
   "source": [
    "array1 = np.array([[1,5,2,0.89,45],[1,0.49,7,4.65,2]], 'float64')"
   ]
  },
  {
   "cell_type": "code",
   "execution_count": 24,
   "id": "2b91355a",
   "metadata": {},
   "outputs": [
    {
     "data": {
      "text/plain": [
       "(2, 5)"
      ]
     },
     "execution_count": 24,
     "metadata": {},
     "output_type": "execute_result"
    }
   ],
   "source": [
    "array1.shape"
   ]
  },
  {
   "cell_type": "code",
   "execution_count": 25,
   "id": "35177e83",
   "metadata": {},
   "outputs": [
    {
     "data": {
      "text/plain": [
       "dtype('float64')"
      ]
     },
     "execution_count": 25,
     "metadata": {},
     "output_type": "execute_result"
    }
   ],
   "source": [
    "array1.dtype"
   ]
  },
  {
   "cell_type": "markdown",
   "id": "9eaa3bc4",
   "metadata": {},
   "source": [
    "### Empty arrays"
   ]
  },
  {
   "cell_type": "code",
   "execution_count": 26,
   "id": "1e6765bb",
   "metadata": {},
   "outputs": [
    {
     "data": {
      "text/plain": [
       "array([0., 0., 0., 0.])"
      ]
     },
     "execution_count": 26,
     "metadata": {},
     "output_type": "execute_result"
    }
   ],
   "source": [
    "arr = np.zeros(4)\n",
    "arr"
   ]
  },
  {
   "cell_type": "code",
   "execution_count": 27,
   "id": "fcfda957",
   "metadata": {},
   "outputs": [
    {
     "data": {
      "text/plain": [
       "array([[0., 0., 0., 0., 0., 0.],\n",
       "       [0., 0., 0., 0., 0., 0.],\n",
       "       [0., 0., 0., 0., 0., 0.],\n",
       "       [0., 0., 0., 0., 0., 0.]])"
      ]
     },
     "execution_count": 27,
     "metadata": {},
     "output_type": "execute_result"
    }
   ],
   "source": [
    "arr = np.zeros((4,6))\n",
    "arr"
   ]
  },
  {
   "cell_type": "code",
   "execution_count": 28,
   "id": "99d63294",
   "metadata": {},
   "outputs": [
    {
     "data": {
      "text/plain": [
       "array([[[0., 0., 0., 0., 0., 0., 0., 0., 0.],\n",
       "        [0., 0., 0., 0., 0., 0., 0., 0., 0.],\n",
       "        [0., 0., 0., 0., 0., 0., 0., 0., 0.],\n",
       "        [0., 0., 0., 0., 0., 0., 0., 0., 0.],\n",
       "        [0., 0., 0., 0., 0., 0., 0., 0., 0.],\n",
       "        [0., 0., 0., 0., 0., 0., 0., 0., 0.]],\n",
       "\n",
       "       [[0., 0., 0., 0., 0., 0., 0., 0., 0.],\n",
       "        [0., 0., 0., 0., 0., 0., 0., 0., 0.],\n",
       "        [0., 0., 0., 0., 0., 0., 0., 0., 0.],\n",
       "        [0., 0., 0., 0., 0., 0., 0., 0., 0.],\n",
       "        [0., 0., 0., 0., 0., 0., 0., 0., 0.],\n",
       "        [0., 0., 0., 0., 0., 0., 0., 0., 0.]],\n",
       "\n",
       "       [[0., 0., 0., 0., 0., 0., 0., 0., 0.],\n",
       "        [0., 0., 0., 0., 0., 0., 0., 0., 0.],\n",
       "        [0., 0., 0., 0., 0., 0., 0., 0., 0.],\n",
       "        [0., 0., 0., 0., 0., 0., 0., 0., 0.],\n",
       "        [0., 0., 0., 0., 0., 0., 0., 0., 0.],\n",
       "        [0., 0., 0., 0., 0., 0., 0., 0., 0.]],\n",
       "\n",
       "       [[0., 0., 0., 0., 0., 0., 0., 0., 0.],\n",
       "        [0., 0., 0., 0., 0., 0., 0., 0., 0.],\n",
       "        [0., 0., 0., 0., 0., 0., 0., 0., 0.],\n",
       "        [0., 0., 0., 0., 0., 0., 0., 0., 0.],\n",
       "        [0., 0., 0., 0., 0., 0., 0., 0., 0.],\n",
       "        [0., 0., 0., 0., 0., 0., 0., 0., 0.]]])"
      ]
     },
     "execution_count": 28,
     "metadata": {},
     "output_type": "execute_result"
    }
   ],
   "source": [
    "arr = np.zeros((4,6,9))\n",
    "arr"
   ]
  },
  {
   "cell_type": "code",
   "execution_count": 29,
   "id": "20b858bf",
   "metadata": {},
   "outputs": [
    {
     "data": {
      "text/plain": [
       "array([1., 1., 1., 1., 1., 1.])"
      ]
     },
     "execution_count": 29,
     "metadata": {},
     "output_type": "execute_result"
    }
   ],
   "source": [
    "np.ones(6)"
   ]
  },
  {
   "cell_type": "code",
   "execution_count": 30,
   "id": "bafbadf6",
   "metadata": {},
   "outputs": [
    {
     "data": {
      "text/plain": [
       "dtype('float64')"
      ]
     },
     "execution_count": 30,
     "metadata": {},
     "output_type": "execute_result"
    }
   ],
   "source": [
    "np.ones(6).dtype"
   ]
  },
  {
   "cell_type": "code",
   "execution_count": 31,
   "id": "49385e03",
   "metadata": {},
   "outputs": [
    {
     "data": {
      "text/plain": [
       "array([[0., 0., 0., 0., 0., 0.],\n",
       "       [0., 0., 0., 0., 0., 0.],\n",
       "       [0., 0., 0., 0., 0., 0.],\n",
       "       [0., 0., 0., 0., 0., 0.]])"
      ]
     },
     "execution_count": 31,
     "metadata": {},
     "output_type": "execute_result"
    }
   ],
   "source": [
    "np.empty((4,6))  # it allocate memory to array but it is not mendatory that the values always 0 it can be garbage value "
   ]
  },
  {
   "cell_type": "code",
   "execution_count": 32,
   "id": "73a0d0d6",
   "metadata": {},
   "outputs": [
    {
     "data": {
      "text/plain": [
       "array([[   1,   25,    4,   81, 2025],\n",
       "       [   1,   81,   49,   16,    4]], dtype=int64)"
      ]
     },
     "execution_count": 32,
     "metadata": {},
     "output_type": "execute_result"
    }
   ],
   "source": [
    "array1 = np.array([[1,5,2,9,45],[1,9,7,4,2]], 'int64')\n",
    "\n",
    "# element wise multipliocation\n",
    "\n",
    "array1 * array1"
   ]
  },
  {
   "cell_type": "code",
   "execution_count": 33,
   "id": "5eb81a82",
   "metadata": {},
   "outputs": [
    {
     "data": {
      "text/plain": [
       "array([[ 2, 10,  4, 18, 90],\n",
       "       [ 2, 18, 14,  8,  4]], dtype=int64)"
      ]
     },
     "execution_count": 33,
     "metadata": {},
     "output_type": "execute_result"
    }
   ],
   "source": [
    "array1 + array1"
   ]
  },
  {
   "cell_type": "code",
   "execution_count": 34,
   "id": "b3b08ec6",
   "metadata": {},
   "outputs": [
    {
     "data": {
      "text/plain": [
       "array([[1., 1., 1., 1., 1.],\n",
       "       [1., 1., 1., 1., 1.]])"
      ]
     },
     "execution_count": 34,
     "metadata": {},
     "output_type": "execute_result"
    }
   ],
   "source": [
    "array1 / array1"
   ]
  },
  {
   "cell_type": "code",
   "execution_count": 35,
   "id": "158c5178",
   "metadata": {},
   "outputs": [
    {
     "data": {
      "text/plain": [
       "array([[                  1,                3125,                   4,\n",
       "                  387420489, 2604998672350111773],\n",
       "       [                  1,           387420489,              823543,\n",
       "                        256,                   4]], dtype=int64)"
      ]
     },
     "execution_count": 35,
     "metadata": {},
     "output_type": "execute_result"
    }
   ],
   "source": [
    "array1 ** array1"
   ]
  },
  {
   "cell_type": "code",
   "execution_count": 36,
   "id": "a497d05b",
   "metadata": {},
   "outputs": [
    {
     "data": {
      "text/plain": [
       "array([[0, 0, 0, 0, 0],\n",
       "       [0, 0, 0, 0, 0]], dtype=int64)"
      ]
     },
     "execution_count": 36,
     "metadata": {},
     "output_type": "execute_result"
    }
   ],
   "source": [
    "array1 - array1"
   ]
  },
  {
   "cell_type": "code",
   "execution_count": 37,
   "id": "9ff4aef8",
   "metadata": {},
   "outputs": [
    {
     "data": {
      "text/plain": [
       "array([[1.        , 0.2       , 0.5       , 0.11111111, 0.02222222],\n",
       "       [1.        , 0.11111111, 0.14285714, 0.25      , 0.5       ]])"
      ]
     },
     "execution_count": 37,
     "metadata": {},
     "output_type": "execute_result"
    }
   ],
   "source": [
    "1 / array1"
   ]
  },
  {
   "cell_type": "markdown",
   "id": "e12d6667",
   "metadata": {},
   "source": [
    "### Slicing in NumPy"
   ]
  },
  {
   "cell_type": "code",
   "execution_count": 56,
   "id": "ac54f2fb",
   "metadata": {},
   "outputs": [
    {
     "name": "stdout",
     "output_type": "stream",
     "text": [
      "[1 5 2 9 4 3 8]\n",
      "[4 3]\n",
      "[ 1  5  2  9 10  3  8]\n"
     ]
    }
   ],
   "source": [
    "array1 = np.array([1,5,2,9,4,3,8])\n",
    "print(array1)\n",
    "\n",
    "arr = array1[4:6]  # it gives a view of array (point to array) not a copy\n",
    "print(arr)\n",
    "arr[0] = 10\n",
    "print(array1)"
   ]
  },
  {
   "cell_type": "code",
   "execution_count": 57,
   "id": "845fe7da",
   "metadata": {},
   "outputs": [
    {
     "name": "stdout",
     "output_type": "stream",
     "text": [
      "[1 5 2 9 4 3 8]\n",
      "[4 3]\n",
      "[1 5 2 9 4 3 8]\n"
     ]
    }
   ],
   "source": [
    "array1 = np.array([1,5,2,9,4,3,8])\n",
    "print(array1)\n",
    "\n",
    "arr = array1[4:6].copy()  # create a copy\n",
    "print(arr)\n",
    "arr[0] = 10\n",
    "print(array1)"
   ]
  },
  {
   "cell_type": "code",
   "execution_count": null,
   "id": "bf550754",
   "metadata": {},
   "outputs": [],
   "source": []
  }
 ],
 "metadata": {
  "kernelspec": {
   "display_name": "Python 3 (ipykernel)",
   "language": "python",
   "name": "python3"
  },
  "language_info": {
   "codemirror_mode": {
    "name": "ipython",
    "version": 3
   },
   "file_extension": ".py",
   "mimetype": "text/x-python",
   "name": "python",
   "nbconvert_exporter": "python",
   "pygments_lexer": "ipython3",
   "version": "3.11.3"
  }
 },
 "nbformat": 4,
 "nbformat_minor": 5
}
