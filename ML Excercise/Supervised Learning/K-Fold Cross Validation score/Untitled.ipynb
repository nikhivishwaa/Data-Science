{
 "cells": [
  {
   "cell_type": "markdown",
   "id": "3cecb647",
   "metadata": {},
   "source": [
    "## K-Fold Cross Validation Score"
   ]
  },
  {
   "cell_type": "code",
   "execution_count": 1,
   "id": "7960e89d",
   "metadata": {},
   "outputs": [],
   "source": [
    "from sklearn.datasets import load_digits\n",
    "from sklearn.ensemble import RandomForestClassifier\n",
    "from sklearn.svm import SVC\n",
    "from sklearn.linear_model import LogisticRegression\n",
    "from sklearn.model_selection import KFold, StratifiedKFold"
   ]
  },
  {
   "cell_type": "code",
   "execution_count": 2,
   "id": "fee9e3d3",
   "metadata": {},
   "outputs": [],
   "source": [
    "def get_model_score(model, x_train, x_test, y_train, y_test):\n",
    "    model.fit(x_train, y_train)\n",
    "    return model.score(x_test, y_test)"
   ]
  },
  {
   "cell_type": "code",
   "execution_count": 3,
   "id": "0028c997",
   "metadata": {},
   "outputs": [],
   "source": [
    "dataset = load_digits()\n",
    "\n",
    "def get_train_test(train, test):\n",
    "    return (dataset.data[train],dataset.data[test],dataset.target[train],dataset.target[test])"
   ]
  },
  {
   "cell_type": "code",
   "execution_count": 16,
   "id": "7b54b3ee",
   "metadata": {},
   "outputs": [],
   "source": [
    "lr_score = []\n",
    "svc_score = []\n",
    "rf_score = []\n",
    "\n",
    "kf = KFold(n_splits=10)\n",
    "\n",
    "for train, test in kf.split(dataset.data):\n",
    "    X,xt,Y,yt = (dataset.data[train],dataset.data[test],dataset.target[train],dataset.target[test])\n",
    "    lr = get_model_score(LogisticRegression(solver='liblinear'),X,xt,Y,yt)\n",
    "    lr_score.append(lr)\n",
    "    \n",
    "    svc = get_model_score(SVC(),X,xt,Y,yt)\n",
    "    svc_score.append(svc)\n",
    "    \n",
    "    rf = get_model_score(RandomForestClassifier(),X,xt,Y,yt)\n",
    "    rf_score.append(rf)"
   ]
  },
  {
   "cell_type": "code",
   "execution_count": 18,
   "id": "173247bb",
   "metadata": {},
   "outputs": [
    {
     "data": {
      "text/html": [
       "<div>\n",
       "<style scoped>\n",
       "    .dataframe tbody tr th:only-of-type {\n",
       "        vertical-align: middle;\n",
       "    }\n",
       "\n",
       "    .dataframe tbody tr th {\n",
       "        vertical-align: top;\n",
       "    }\n",
       "\n",
       "    .dataframe thead th {\n",
       "        text-align: right;\n",
       "    }\n",
       "</style>\n",
       "<table border=\"1\" class=\"dataframe\">\n",
       "  <thead>\n",
       "    <tr style=\"text-align: right;\">\n",
       "      <th></th>\n",
       "      <th>Logistic Regression</th>\n",
       "      <th>SVM Classifier</th>\n",
       "      <th>Random Forest</th>\n",
       "    </tr>\n",
       "  </thead>\n",
       "  <tbody>\n",
       "    <tr>\n",
       "      <th>0</th>\n",
       "      <td>0.905556</td>\n",
       "      <td>0.944444</td>\n",
       "      <td>0.888889</td>\n",
       "    </tr>\n",
       "    <tr>\n",
       "      <th>1</th>\n",
       "      <td>0.950000</td>\n",
       "      <td>1.000000</td>\n",
       "      <td>0.988889</td>\n",
       "    </tr>\n",
       "    <tr>\n",
       "      <th>2</th>\n",
       "      <td>0.894444</td>\n",
       "      <td>0.933333</td>\n",
       "      <td>0.938889</td>\n",
       "    </tr>\n",
       "    <tr>\n",
       "      <th>3</th>\n",
       "      <td>0.916667</td>\n",
       "      <td>0.983333</td>\n",
       "      <td>0.950000</td>\n",
       "    </tr>\n",
       "    <tr>\n",
       "      <th>4</th>\n",
       "      <td>0.944444</td>\n",
       "      <td>0.983333</td>\n",
       "      <td>0.961111</td>\n",
       "    </tr>\n",
       "    <tr>\n",
       "      <th>5</th>\n",
       "      <td>0.972222</td>\n",
       "      <td>0.988889</td>\n",
       "      <td>0.955556</td>\n",
       "    </tr>\n",
       "    <tr>\n",
       "      <th>6</th>\n",
       "      <td>0.977778</td>\n",
       "      <td>0.988889</td>\n",
       "      <td>0.983333</td>\n",
       "    </tr>\n",
       "    <tr>\n",
       "      <th>7</th>\n",
       "      <td>0.955307</td>\n",
       "      <td>0.994413</td>\n",
       "      <td>0.972067</td>\n",
       "    </tr>\n",
       "    <tr>\n",
       "      <th>8</th>\n",
       "      <td>0.860335</td>\n",
       "      <td>0.966480</td>\n",
       "      <td>0.938547</td>\n",
       "    </tr>\n",
       "    <tr>\n",
       "      <th>9</th>\n",
       "      <td>0.938547</td>\n",
       "      <td>0.949721</td>\n",
       "      <td>0.944134</td>\n",
       "    </tr>\n",
       "  </tbody>\n",
       "</table>\n",
       "</div>"
      ],
      "text/plain": [
       "   Logistic Regression  SVM Classifier  Random Forest\n",
       "0             0.905556        0.944444       0.888889\n",
       "1             0.950000        1.000000       0.988889\n",
       "2             0.894444        0.933333       0.938889\n",
       "3             0.916667        0.983333       0.950000\n",
       "4             0.944444        0.983333       0.961111\n",
       "5             0.972222        0.988889       0.955556\n",
       "6             0.977778        0.988889       0.983333\n",
       "7             0.955307        0.994413       0.972067\n",
       "8             0.860335        0.966480       0.938547\n",
       "9             0.938547        0.949721       0.944134"
      ]
     },
     "execution_count": 18,
     "metadata": {},
     "output_type": "execute_result"
    }
   ],
   "source": [
    "import numpy as np\n",
    "import pandas as pd\n",
    "\n",
    "x = np.zeros((10,3))\n",
    "\n",
    "\n",
    "x[:,0] = lr_score\n",
    "x[:,1] = svc_score\n",
    "x[:,2] = rf_score\n",
    "\n",
    "df = pd.DataFrame(x,columns=['Logistic Regression','SVM Classifier','Random Forest'])\n",
    "df"
   ]
  },
  {
   "cell_type": "code",
   "execution_count": 19,
   "id": "0a5ac541",
   "metadata": {},
   "outputs": [
    {
     "data": {
      "text/plain": [
       "Logistic Regression    0.931530\n",
       "SVM Classifier         0.973284\n",
       "Random Forest          0.952142\n",
       "dtype: float64"
      ]
     },
     "execution_count": 19,
     "metadata": {},
     "output_type": "execute_result"
    }
   ],
   "source": [
    "df.mean()"
   ]
  },
  {
   "cell_type": "markdown",
   "id": "c00b3f8d",
   "metadata": {},
   "source": [
    "## cross_val_score function"
   ]
  },
  {
   "cell_type": "code",
   "execution_count": 20,
   "id": "cac1fce9",
   "metadata": {},
   "outputs": [],
   "source": [
    "from sklearn.model_selection import cross_val_score"
   ]
  },
  {
   "cell_type": "code",
   "execution_count": 22,
   "id": "7885c2c4",
   "metadata": {},
   "outputs": [
    {
     "data": {
      "text/plain": [
       "array([0.91111111, 0.93888889, 0.89444444, 0.86666667, 0.94444444,\n",
       "       0.97222222, 0.97777778, 0.94972067, 0.8603352 , 0.94413408])"
      ]
     },
     "execution_count": 22,
     "metadata": {},
     "output_type": "execute_result"
    }
   ],
   "source": [
    "cross_val_score(LogisticRegression(solver='liblinear'),dataset.data,dataset.target,cv=10)"
   ]
  },
  {
   "cell_type": "code",
   "execution_count": null,
   "id": "1d4c6dd2",
   "metadata": {},
   "outputs": [],
   "source": []
  }
 ],
 "metadata": {
  "kernelspec": {
   "display_name": "Python 3 (ipykernel)",
   "language": "python",
   "name": "python3"
  },
  "language_info": {
   "codemirror_mode": {
    "name": "ipython",
    "version": 3
   },
   "file_extension": ".py",
   "mimetype": "text/x-python",
   "name": "python",
   "nbconvert_exporter": "python",
   "pygments_lexer": "ipython3",
   "version": "3.11.3"
  }
 },
 "nbformat": 4,
 "nbformat_minor": 5
}
