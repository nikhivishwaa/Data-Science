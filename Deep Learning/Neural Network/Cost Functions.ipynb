{
 "cells": [
  {
   "cell_type": "markdown",
   "id": "57abc49f",
   "metadata": {},
   "source": [
    "## Log Loss / Binary Loss"
   ]
  },
  {
   "cell_type": "code",
   "execution_count": 12,
   "id": "3007f13d",
   "metadata": {},
   "outputs": [],
   "source": [
    "import numpy as np\n",
    "\n",
    "y_predicted = np.array([1,1,0,0,1])\n",
    "y_true = np.array([0.30,0.7,1,0,0.5])"
   ]
  },
  {
   "cell_type": "code",
   "execution_count": 13,
   "id": "b8a80786",
   "metadata": {},
   "outputs": [],
   "source": [
    "def log_loss(y_true, y_predicted):\n",
    "    epsilon = 1e-15\n",
    "    y_predicted = [max(epsilon, i) for i in y_predicted]\n",
    "    y_predicted = [min(1-epsilon, i) for i in y_predicted]\n",
    "    y_predicted = np.array(y_predicted)\n",
    "    return -np.mean(y_true * np.log(y_predicted) + (1 - y_true) * np.log(1 - y_predicted))"
   ]
  },
  {
   "cell_type": "code",
   "execution_count": 14,
   "id": "9c03ec79",
   "metadata": {},
   "outputs": [
    {
     "data": {
      "text/plain": [
       "17.2696280766844"
      ]
     },
     "execution_count": 14,
     "metadata": {},
     "output_type": "execute_result"
    }
   ],
   "source": [
    "x = [1,0.,1,0.45,1]\n",
    "y = [0,0.1,1,0.89]\n",
    "\n",
    "log_loss(y_true,y_predicted)"
   ]
  },
  {
   "cell_type": "markdown",
   "id": "0339c18f",
   "metadata": {},
   "source": [
    "## Mean Abslute Error"
   ]
  },
  {
   "cell_type": "code",
   "execution_count": 16,
   "id": "a183c324",
   "metadata": {},
   "outputs": [],
   "source": [
    "def mean_absolute_error(y,y_pred):\n",
    "    return np.mean(np.abs(y-y_pred))"
   ]
  },
  {
   "cell_type": "code",
   "execution_count": 17,
   "id": "207689c7",
   "metadata": {},
   "outputs": [
    {
     "data": {
      "text/plain": [
       "0.5"
      ]
     },
     "execution_count": 17,
     "metadata": {},
     "output_type": "execute_result"
    }
   ],
   "source": [
    "mean_absolute_error(y_true,y_predicted)"
   ]
  },
  {
   "cell_type": "markdown",
   "id": "b5ce5e5b",
   "metadata": {},
   "source": [
    "## Mean Squared Error"
   ]
  },
  {
   "cell_type": "code",
   "execution_count": 20,
   "id": "ff8f8ab3",
   "metadata": {},
   "outputs": [],
   "source": [
    "def mean_squared_error(y, y_pred):\n",
    "    return np.mean((y-y_pred)**2)"
   ]
  },
  {
   "cell_type": "code",
   "execution_count": 21,
   "id": "f22d4b45",
   "metadata": {},
   "outputs": [
    {
     "data": {
      "text/plain": [
       "0.366"
      ]
     },
     "execution_count": 21,
     "metadata": {},
     "output_type": "execute_result"
    }
   ],
   "source": [
    "mean_squared_error(y_true,y_predicted)"
   ]
  },
  {
   "cell_type": "code",
   "execution_count": null,
   "id": "aac1a536",
   "metadata": {},
   "outputs": [],
   "source": []
  }
 ],
 "metadata": {
  "kernelspec": {
   "display_name": "Python 3 (ipykernel)",
   "language": "python",
   "name": "python3"
  },
  "language_info": {
   "codemirror_mode": {
    "name": "ipython",
    "version": 3
   },
   "file_extension": ".py",
   "mimetype": "text/x-python",
   "name": "python",
   "nbconvert_exporter": "python",
   "pygments_lexer": "ipython3",
   "version": "3.11.3"
  }
 },
 "nbformat": 4,
 "nbformat_minor": 5
}
